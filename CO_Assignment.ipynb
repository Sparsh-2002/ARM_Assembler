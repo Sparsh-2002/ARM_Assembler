{
  "nbformat": 4,
  "nbformat_minor": 0,
  "metadata": {
    "colab": {
      "name": "CO_Assignment.ipynb",
      "provenance": [],
      "include_colab_link": true
    },
    "kernelspec": {
      "name": "python3",
      "display_name": "Python 3"
    },
    "language_info": {
      "name": "python"
    }
  },
  "cells": [
    {
      "cell_type": "markdown",
      "metadata": {
        "id": "view-in-github",
        "colab_type": "text"
      },
      "source": [
        "<a href=\"https://colab.research.google.com/github/Sparsh-2002/CO_Assignment/blob/CO_Assignment/CO_Assignment.ipynb\" target=\"_parent\"><img src=\"https://colab.research.google.com/assets/colab-badge.svg\" alt=\"Open In Colab\"/></a>"
      ]
    },
    {
      "cell_type": "code",
      "metadata": {
        "id": "0Ppjqa3-GFt6"
      },
      "source": [
        "R ={\n",
        "    \"R0\" : 0,\n",
        "    \"R1\" : 0,\n",
        "    \"R2\" : 0,\n",
        "    \"R3\" : 0,\n",
        "    \"R4\" : 0,\n",
        "    \"R5\" : 0,\n",
        "    \"R6\" : 0,\n",
        "    \"v\"  : 0,\n",
        "    \"E\"  : 0,\n",
        "    \"G\"  : 0,\n",
        "    \"L\"  : 0,\n",
        "}"
      ],
      "execution_count": 9,
      "outputs": []
    },
    {
      "cell_type": "code",
      "metadata": {
        "id": "cIIg534jFmfe"
      },
      "source": [
        "def stringtobinary(string):\n",
        "    returnstring=\"000\"\n",
        "    num = int(string)\n",
        "    ##print(num-1)\n",
        "    temp=\"\"\n",
        "    while(num>0):\n",
        "        temp+= str(num%2)\n",
        "        num/=2\n",
        "        num = int(num)\n",
        "    ##print(temp)\n",
        "    for i in range(len(temp)):\n",
        "        returnstring+=temp[len(temp)-i-1]\n",
        "    #print(returnstring[-3:])\n",
        "    return returnstring[-3:]"
      ],
      "execution_count": 10,
      "outputs": []
    },
    {
      "cell_type": "code",
      "metadata": {
        "id": "9CYyezfkF_Dp"
      },
      "source": [
        "## sparsh was here:\n",
        "def add(R1,R2,R3):\n",
        "    R[R1] = R[R2]+R[R3]\n",
        "    print(\"0001000\"+stringtobinary(R1[1:])+stringtobinary(R2[1:])+stringtobinary(R3[1:]))\n",
        "\n",
        "def sub(R1, R2, R3):\n",
        "    R[R1] = R[R2]-R[R3]\n",
        "    if(R[R1]<0):\n",
        "      R[\"V\"] =1\n",
        "    print(\"0010000\"+stringtobinary(R1[1:]) +stringtobinary(R2[1:])+stringtobinary(R3[1:]))\n",
        "  \n"
      ],
      "execution_count": 14,
      "outputs": []
    },
    {
      "cell_type": "code",
      "metadata": {
        "id": "xLfAbiP6YbgL"
      },
      "source": [
        "## rahul add here:\n"
      ],
      "execution_count": null,
      "outputs": []
    },
    {
      "cell_type": "code",
      "metadata": {
        "id": "Mgh3U-kwYfU8"
      },
      "source": [
        "## sahas add here:"
      ],
      "execution_count": null,
      "outputs": []
    },
    {
      "cell_type": "code",
      "metadata": {
        "id": "tAiJwgW0GAf1",
        "colab": {
          "base_uri": "https://localhost:8080/"
        },
        "outputId": "e6d63611-455a-4938-defb-1c927f22e0a9"
      },
      "source": [
        "while(True):\n",
        "        currentcode =input().split()\n",
        "        ##print(currentcode)\n",
        "        if(currentcode[0]==\"hlt\"):\n",
        "            print(\"1001100000000000\")\n",
        "            break\n",
        "        if(currentcode[0]==\"add\"):\n",
        "            ##print(\"add statement\")\n",
        "            add(currentcode[1], currentcode[2], currentcode[3])\n",
        "        if(currentcode[0]==\"sub\"):\n",
        "            sub(currentcode[1], currentcode[2], currentcode[3])"
      ],
      "execution_count": 15,
      "outputs": [
        {
          "output_type": "stream",
          "text": [
            "add R1 R2 R3\n",
            "0001000001010011\n",
            "hlt\n",
            "1001100000000000\n"
          ],
          "name": "stdout"
        }
      ]
    },
    {
      "cell_type": "code",
      "metadata": {
        "id": "-GHCh88CMA0M"
      },
      "source": [
        ""
      ],
      "execution_count": null,
      "outputs": []
    }
  ]
}